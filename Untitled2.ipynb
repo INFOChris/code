{
 "cells": [
  {
   "cell_type": "code",
   "execution_count": 15,
   "metadata": {
    "collapsed": false
   },
   "outputs": [
    {
     "name": "stdout",
     "output_type": "stream",
     "text": [
      "[[ 6.1  3.   4.9  1.8]\n",
      " [ 6.9  3.1  4.9  1.5]\n",
      " [ 6.1  2.8  4.   1.3]\n",
      " [ 7.7  2.6  6.9  2.3]\n",
      " [ 5.   2.   3.5  1. ]]\n",
      "(65,)\n",
      "(4, 39)\n",
      "(4, 4)\n"
     ]
    }
   ],
   "source": [
    "import numpy as np\n",
    "import matplotlib.pyplot as plt\n",
    "\n",
    "\n",
    "\n",
    "\n",
    "def train_lda(X, y):\n",
    "    ''' Train an LDA\n",
    "    Input: X data matrix with shape NxD\n",
    "           y label vector with shape Nx1\n",
    "    Output: weight vector with shape Nx1 \n",
    "            bias term - real-valued '''\n",
    "    means = []\n",
    "    covs = []\n",
    "    classes = np.unique(y)\n",
    "    for group in classes:\n",
    "        X_g = X[y == group, :]\n",
    "        Cov_g = 1./(len(X_g)-1)*np.dot((X_g-np.mean(X_g,0)).T,(X_g-np.mean(X_g,0)))        \n",
    "        means.append(np.mean(X_g,0))        \n",
    "        covs.append(Cov_g)\n",
    "    weights = np.dot(np.linalg.pinv(covs[0]+covs[1]),(means[1]-means[0]))\n",
    "    bias = -0.5*np.dot(weights,(means[0]+means[1]))    \n",
    "    \n",
    "    return weights, bias\n",
    "\n",
    "\n",
    "\n",
    "\n",
    "# Load the iris data set \n",
    "X_train_all = np.loadtxt('data/iris_train.data', delimiter=' ', dtype=float)\n",
    "y_train_all = np.loadtxt('data/iris_train.labels', dtype=int)\n",
    "X_test_all = np.loadtxt('data/iris_test.data', delimiter=' ', dtype=float)\n",
    "y_test_all = np.loadtxt('data/iris_test.labels', dtype=int)\n",
    "\n",
    "# only select classes 1 and 2\n",
    "X_train = X_train_all[np.logical_or(y_train_all==1,y_train_all==2)]\n",
    "y_train = y_train_all[np.logical_or(y_train_all==1,y_train_all==2)]\n",
    "print(X_train[:5])\n",
    "print(y_train.shape)\n",
    "\n",
    "X_g1 = X_train[y_train == 1, :]\n",
    "X_g2 = X_train[y_train == 2, :]\n",
    "\n",
    "mean1 = np.mean(X_g1,0)\n",
    "mean2 = np.mean(X_g2,0)\n",
    "meanfree1 = X_g1 - mean1 \n",
    "#print('mean1', mean1)\n",
    "#print('mean2', mean2)\n",
    "#print(X_g1)\n",
    "#print('meanfree', meanfree1)\n",
    "#print('second')\n",
    "#print(X_g2)\n",
    "z = (X_g1-np.mean(X_g1,0)).T\n",
    "print(z.shape)\n",
    "k = np.dot((X_g1-np.mean(X_g1,0)).T,(X_g1-np.mean(X_g1,0)))\n",
    "print(k.shape)\n",
    "\n",
    "\n",
    "\n",
    "\n",
    "\n",
    "\n",
    "\n",
    "\n",
    "\n",
    "\n",
    "\n",
    "\n",
    "\n",
    "\n",
    "\n",
    "\n",
    "\n",
    "\n",
    "\n",
    "\n",
    "\n",
    "\n"
   ]
  }
 ],
 "metadata": {
  "kernelspec": {
   "display_name": "Python 3",
   "language": "python",
   "name": "python3"
  },
  "language_info": {
   "codemirror_mode": {
    "name": "ipython",
    "version": 3
   },
   "file_extension": ".py",
   "mimetype": "text/x-python",
   "name": "python",
   "nbconvert_exporter": "python",
   "pygments_lexer": "ipython3",
   "version": "3.6.0"
  }
 },
 "nbformat": 4,
 "nbformat_minor": 2
}
